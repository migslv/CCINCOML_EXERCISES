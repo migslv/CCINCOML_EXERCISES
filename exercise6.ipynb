{
  "nbformat": 4,
  "nbformat_minor": 0,
  "metadata": {
    "colab": {
      "provenance": [],
      "collapsed_sections": [
        "FKj-F10WsctE"
      ],
      "authorship_tag": "ABX9TyPW4+PQawEW1hSQta9tSA5O",
      "include_colab_link": true
    },
    "kernelspec": {
      "name": "python3",
      "display_name": "Python 3"
    },
    "language_info": {
      "name": "python"
    }
  },
  "cells": [
    {
      "cell_type": "markdown",
      "metadata": {
        "id": "view-in-github",
        "colab_type": "text"
      },
      "source": [
        "<a href=\"https://colab.research.google.com/github/robitussin/CCINCOML_EXERCISES/blob/main/exercise6.ipynb\" target=\"_parent\"><img src=\"https://colab.research.google.com/assets/colab-badge.svg\" alt=\"Open In Colab\"/></a>"
      ]
    },
    {
      "cell_type": "markdown",
      "source": [
        "# Exercise 6"
      ],
      "metadata": {
        "id": "2YKNSy_M9wSB"
      }
    },
    {
      "cell_type": "markdown",
      "source": [
        "## Lists"
      ],
      "metadata": {
        "id": "waosO4TAeA-S"
      }
    },
    {
      "cell_type": "markdown",
      "source": [
        "1. Create a list\n",
        "\n",
        "- The name of the new list should be  `month`\n",
        "\n",
        "- The list should contain all the months in a year (January, February, March, April, May, June, July, August, September, October, November, December)"
      ],
      "metadata": {
        "id": "AW0H1ylt3H9g"
      }
    },
    {
      "cell_type": "code",
      "execution_count": null,
      "metadata": {
        "id": "3a9CllzZ28_6"
      },
      "outputs": [],
      "source": [
        "# put your answer here"
      ]
    },
    {
      "cell_type": "markdown",
      "source": [
        "2. Display an element\n",
        "\n",
        "- Display the fourth element 'April' in the `month` list"
      ],
      "metadata": {
        "id": "lDgi4WMA3UDM"
      }
    },
    {
      "cell_type": "code",
      "source": [
        "# put your answer here"
      ],
      "metadata": {
        "id": "-K4Umghk34X3"
      },
      "execution_count": null,
      "outputs": []
    },
    {
      "cell_type": "markdown",
      "source": [
        "3. Slice the list\n",
        "\n",
        "- Use slicing to get the last 4 months of the year of (September, October, November, December) of the `month` list"
      ],
      "metadata": {
        "id": "2sgJy-_C4N8b"
      }
    },
    {
      "cell_type": "code",
      "source": [
        "# put your answer here"
      ],
      "metadata": {
        "id": "xARijZmm4bp2"
      },
      "execution_count": null,
      "outputs": []
    },
    {
      "cell_type": "markdown",
      "source": [
        "- Use slicing to get the first 4 months of the year (January, February, March, April) of the `month` list"
      ],
      "metadata": {
        "id": "ZNYReiVbp4qN"
      }
    },
    {
      "cell_type": "code",
      "source": [
        "# put your answer here"
      ],
      "metadata": {
        "id": "5QEm97VXp5Bi"
      },
      "execution_count": null,
      "outputs": []
    },
    {
      "cell_type": "markdown",
      "source": [
        "4. List Methods\n",
        "\n",
        "- Get the size of the month list using the `len()` method"
      ],
      "metadata": {
        "id": "wZBoOGlh4zf9"
      }
    },
    {
      "cell_type": "code",
      "source": [
        "# put your answer here"
      ],
      "metadata": {
        "id": "0xoFuFFw48AX"
      },
      "execution_count": null,
      "outputs": []
    },
    {
      "cell_type": "markdown",
      "source": [
        "- Get the element with the largest value of the month list using `max()`"
      ],
      "metadata": {
        "id": "P5bCjc8Xq4Fd"
      }
    },
    {
      "cell_type": "code",
      "source": [
        "# put your answer here"
      ],
      "metadata": {
        "id": "Yp3BmlEQq4k7"
      },
      "execution_count": null,
      "outputs": []
    },
    {
      "cell_type": "markdown",
      "source": [
        "- Get the element with the smallest value of the month list using `min()`"
      ],
      "metadata": {
        "id": "dGXbdxgJq5HC"
      }
    },
    {
      "cell_type": "code",
      "source": [
        "# put your answer here"
      ],
      "metadata": {
        "id": "2CIePRDMq5aN"
      },
      "execution_count": null,
      "outputs": []
    },
    {
      "cell_type": "markdown",
      "source": [
        "- Sort the months of the year by alphabetical order using the `sorted()` function"
      ],
      "metadata": {
        "id": "rmnq1YbHta7L"
      }
    },
    {
      "cell_type": "code",
      "source": [
        "# put your answer here"
      ],
      "metadata": {
        "id": "EBB3CLFGtbKg"
      },
      "execution_count": null,
      "outputs": []
    },
    {
      "cell_type": "markdown",
      "source": [
        "## Tuple"
      ],
      "metadata": {
        "id": "R4Rkhy42sWQc"
      }
    },
    {
      "cell_type": "markdown",
      "source": [
        "1. Create a tuple with only three elements, the elements are:\n",
        "\n",
        "- Your month of birth in integers\n",
        "- Your day of birth in integers\n",
        "- Your year of birth in integers\n",
        "\n",
        "Use tuple unpacking to directly assign the month, day, year variable to each elements in your tuple."
      ],
      "metadata": {
        "id": "0qdb8lX53Iux"
      }
    },
    {
      "cell_type": "code",
      "source": [
        "# put your answer here"
      ],
      "metadata": {
        "id": "E14Lb0Y0wwzL"
      },
      "execution_count": null,
      "outputs": []
    },
    {
      "cell_type": "markdown",
      "source": [
        "## Set\n"
      ],
      "metadata": {
        "id": "pqgIEqbksah2"
      }
    },
    {
      "cell_type": "markdown",
      "source": [
        "1. The list below contains a number of a products of a computer store. Notice that there are duplicate values."
      ],
      "metadata": {
        "id": "PxFhHDRg2zXs"
      }
    },
    {
      "cell_type": "code",
      "source": [
        "products = {\"laptop\", \"smartphone\", \"tablet\", \"mouse\" ,\"powerbank\", \"headphones\", \"laptop\", \"speakers\", \"printer\", \"monitor\", \"projector\", \"mouse\", \"keyboard\"}"
      ],
      "metadata": {
        "id": "WXYdz82fxpdU"
      },
      "execution_count": null,
      "outputs": []
    },
    {
      "cell_type": "markdown",
      "source": [
        "The difference between a list and a set is that a list allows duplicate values. One way to remove duplicates is to convert a list into a set.\n",
        "\n",
        "Convert the `products` list into a set"
      ],
      "metadata": {
        "id": "vr-5xd3f2Vgn"
      }
    },
    {
      "cell_type": "code",
      "source": [
        "# put your answer here"
      ],
      "metadata": {
        "id": "Z_Ao388J2f50"
      },
      "execution_count": null,
      "outputs": []
    },
    {
      "cell_type": "markdown",
      "source": [
        "2. Verify if \"headphones\" exists in the `products` set  using the `in` operator"
      ],
      "metadata": {
        "id": "d9fOZL4g3a9t"
      }
    },
    {
      "cell_type": "code",
      "source": [
        "# put your answer here"
      ],
      "metadata": {
        "id": "ETJJFv-u3b23"
      },
      "execution_count": null,
      "outputs": []
    },
    {
      "cell_type": "markdown",
      "source": [
        "## Dictionaries"
      ],
      "metadata": {
        "id": "FKj-F10WsctE"
      }
    },
    {
      "cell_type": "markdown",
      "source": [
        "1. Create a dictionary of your favorites\n",
        "\n",
        "- Keys should be the type\n",
        "- Values should be the sample from that type\n",
        "\n",
        "Example:\n",
        "\n",
        "food: friedchicken\n",
        "\n",
        "color: blue\n",
        "\n",
        "sport: badminton\n",
        "\n",
        "drink: mangojuice\n",
        "\n",
        "dessert: cheesetart\n"
      ],
      "metadata": {
        "id": "71KOC3D94P7m"
      }
    },
    {
      "cell_type": "code",
      "source": [
        "# put your answer here"
      ],
      "metadata": {
        "id": "8lrrq4xT3Zww"
      },
      "execution_count": null,
      "outputs": []
    },
    {
      "cell_type": "markdown",
      "source": [
        "## Loops"
      ],
      "metadata": {
        "id": "cbsI1vwD1nI7"
      }
    },
    {
      "cell_type": "markdown",
      "source": [
        "1. Write a for loop to iterate all elements of the `month` list. Print each element for every iteration."
      ],
      "metadata": {
        "id": "VV429-WhDmzU"
      }
    },
    {
      "cell_type": "code",
      "source": [
        "# put your answer here"
      ],
      "metadata": {
        "id": "Ki5-XrM_DnNp"
      },
      "execution_count": null,
      "outputs": []
    },
    {
      "cell_type": "markdown",
      "source": [
        "2. Write a for loop and add a condition to only display the elements in the `month` list that ends with \"ber\""
      ],
      "metadata": {
        "id": "XaezrcWxEEQd"
      }
    },
    {
      "cell_type": "code",
      "source": [
        "# put your answer here"
      ],
      "metadata": {
        "id": "LR4utW6rEEm1"
      },
      "execution_count": null,
      "outputs": []
    },
    {
      "cell_type": "markdown",
      "source": [
        "3. Write a for loop and add a condition to only display the elements in the `month` list that does not end with \"ber\""
      ],
      "metadata": {
        "id": "WcBRUEaFFHWf"
      }
    },
    {
      "cell_type": "code",
      "source": [
        "# put your answer here"
      ],
      "metadata": {
        "id": "Bw5D0HLNFHrs"
      },
      "execution_count": null,
      "outputs": []
    },
    {
      "cell_type": "markdown",
      "source": [
        "4. Write a for loop and use `range()` to display your firstname five times"
      ],
      "metadata": {
        "id": "gpvQU9hfF0TF"
      }
    },
    {
      "cell_type": "code",
      "source": [
        "# put your answer here"
      ],
      "metadata": {
        "id": "o-NhO5_nF0hN"
      },
      "execution_count": null,
      "outputs": []
    },
    {
      "cell_type": "markdown",
      "source": [
        "5. Write a for loop that iterates over the names list to create a usernames list.\n",
        "\n",
        "To create a username for each name, make everything lowercase and replace spaces with underscores. Running your for loop over the list:\n",
        "\n",
        "Example:\n",
        "\n",
        "names = [\"Joey Tribbiani\", \"Monica Geller\", \"Chandler Bing\", \"Phoebe Buffay\"]\n",
        "\n",
        "should create a new list\n",
        "\n",
        "usernames = [\"joey_tribbiani\", \"monica_geller\", \"chandler_bing\", \"phoebe_buffay\"]"
      ],
      "metadata": {
        "id": "VLcFGqI9GUic"
      }
    },
    {
      "cell_type": "code",
      "source": [
        "# put your answer here"
      ],
      "metadata": {
        "id": "IqqiHcX_GUzw"
      },
      "execution_count": null,
      "outputs": []
    },
    {
      "cell_type": "markdown",
      "source": [
        "6. Write a while loop to iterate throught the `month` list\n",
        "\n",
        "- Break the loop if the element ends with \"ber\""
      ],
      "metadata": {
        "id": "6OPeRpAtI10D"
      }
    },
    {
      "cell_type": "code",
      "source": [
        "# put your answer here"
      ],
      "metadata": {
        "id": "0sDyOhMXI2TX"
      },
      "execution_count": null,
      "outputs": []
    },
    {
      "cell_type": "markdown",
      "source": [
        "## Functions"
      ],
      "metadata": {
        "id": "-UGI_QgO1h07"
      }
    },
    {
      "cell_type": "markdown",
      "source": [
        "1. Write a python function named population_density that takes two arguments, population and land_area, and returns a population density calculated from those values.\n",
        "\n",
        "The population density can be calculated using this formula:\n",
        "\n",
        "population_density = population/land_area"
      ],
      "metadata": {
        "id": "f4bjOx-C1jar"
      }
    },
    {
      "cell_type": "code",
      "source": [
        "# put your answer here"
      ],
      "metadata": {
        "id": "GJVkPniMLD82"
      },
      "execution_count": null,
      "outputs": []
    },
    {
      "cell_type": "markdown",
      "source": [
        "2. Write an `averagesteps()` function to compute the average the number of steps you take every day.\n",
        "\n",
        "- The function should accept a list and compute the average of all elements inside the list\n",
        "\n",
        "- Create a list with seven elements. The values in the list are your average steps your take everyday.\n",
        "\n",
        "- Pass the list to the function and call the function"
      ],
      "metadata": {
        "id": "DEryE1965T3U"
      }
    },
    {
      "cell_type": "code",
      "source": [
        "# put your answer here"
      ],
      "metadata": {
        "id": "TzhnugYU6D-6"
      },
      "execution_count": null,
      "outputs": []
    }
  ]
}