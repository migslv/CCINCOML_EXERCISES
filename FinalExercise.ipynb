{
  "nbformat": 4,
  "nbformat_minor": 0,
  "metadata": {
    "colab": {
      "provenance": [],
      "include_colab_link": true
    },
    "kernelspec": {
      "name": "python3",
      "display_name": "Python 3"
    },
    "language_info": {
      "name": "python"
    }
  },
  "cells": [
    {
      "cell_type": "markdown",
      "metadata": {
        "id": "view-in-github",
        "colab_type": "text"
      },
      "source": [
        "<a href=\"https://colab.research.google.com/github/migslv/CCINCOML_EXERCISES/blob/main/FinalExercise.ipynb\" target=\"_parent\"><img src=\"https://colab.research.google.com/assets/colab-badge.svg\" alt=\"Open In Colab\"/></a>"
      ]
    },
    {
      "cell_type": "markdown",
      "source": [
        "1. Create a list called `myname` that contains the characters of your first name"
      ],
      "metadata": {
        "id": "TNpD9hmk4_N-"
      }
    },
    {
      "cell_type": "markdown",
      "source": [
        "# Final Exercise 🌹\n",
        "\n",
        "Please follow the instructions!\n",
        "\n",
        "<img src=\"https://i.pinimg.com/originals/80/db/e7/80dbe7a37ca3ea65ecac8dace1b599cc.gif\"/>"
      ],
      "metadata": {
        "id": "1lyup4WJ0U88"
      }
    },
    {
      "cell_type": "code",
      "source": [
        "myname = [\"M\",\"i\",\"g\",\"u\",\"e\",\"l\"]\n",
        "print(myname)"
      ],
      "metadata": {
        "id": "bpXg-iQt4-sQ",
        "colab": {
          "base_uri": "https://localhost:8080/"
        },
        "outputId": "4f9942a7-ac82-4bf9-865d-38cfa75349bd"
      },
      "execution_count": 45,
      "outputs": [
        {
          "output_type": "stream",
          "name": "stdout",
          "text": [
            "['M', 'i', 'g', 'u', 'e', 'l']\n"
          ]
        }
      ]
    },
    {
      "cell_type": "markdown",
      "source": [
        "2. Create a list called `mynumber` that contains all the numbers of your student number"
      ],
      "metadata": {
        "id": "iorlqXkq5FgY"
      }
    },
    {
      "cell_type": "code",
      "source": [
        " mynumber = [2,0,2,3,1,0,4,3,9,3]\n",
        " print(mynumber)"
      ],
      "metadata": {
        "id": "JciPeaYr49B7",
        "colab": {
          "base_uri": "https://localhost:8080/"
        },
        "outputId": "e32c2b92-a8a0-4ec5-dd26-6efb5789186f"
      },
      "execution_count": 36,
      "outputs": [
        {
          "output_type": "stream",
          "name": "stdout",
          "text": [
            "[2, 0, 2, 3, 1, 0, 4, 3, 9, 3]\n"
          ]
        }
      ]
    },
    {
      "cell_type": "markdown",
      "source": [
        "3. Write a python function named `geteven()` that will:\n",
        "\n",
        "- Accept a list of your student number\n",
        "- Return a list with only even numbers\n",
        "\n",
        "-------------------------------------\n",
        "\n",
        "Example:\n",
        "\n",
        "mynumber = [2,0,2,3,1,2,3,4,5,6]\n",
        "\n",
        "geteven(mynumber)\n",
        "\n",
        "Output should be:\n",
        "\n",
        "[2,0,2,2,4,6]"
      ],
      "metadata": {
        "id": "yQ2wZKD-0X7_"
      }
    },
    {
      "cell_type": "code",
      "execution_count": 39,
      "metadata": {
        "id": "9HUAAC9h0Tu6",
        "colab": {
          "base_uri": "https://localhost:8080/"
        },
        "outputId": "f25f90e3-979e-4090-b9f9-b25ab10f597b"
      },
      "outputs": [
        {
          "output_type": "stream",
          "name": "stdout",
          "text": [
            "[2, 0, 2, 0, 4]\n"
          ]
        }
      ],
      "source": [
        "def geteven(student_numbers):\n",
        "      return [num for num in student_numbers if num % 2 == 0]\n",
        "\n",
        "mynumber = [2,0,2,3,1,0,4,3,9,3]\n",
        "print(geteven(mynumber))"
      ]
    },
    {
      "cell_type": "markdown",
      "source": [
        "4. Write a python function named `reverseName()` that will:\n",
        "\n",
        "- Accept a list of your name\n",
        "- Return a list of your name in reverse order\n",
        "\n",
        "-------------------------------------\n",
        "\n",
        "Example:\n",
        "\n",
        "myname = ['E', 'L', 'I', 'Z', 'E', 'R']\n",
        "\n",
        "reverseName(myname)\n",
        "\n",
        "Output should be:\n",
        "\n",
        "['R', 'E', 'Z', 'I', 'L', 'E']"
      ],
      "metadata": {
        "id": "51HBYD8V0agR"
      }
    },
    {
      "cell_type": "code",
      "source": [
        "def reverseName(name):\n",
        "    return name[::-1]\n",
        "\n",
        "my\n",
        "print(countVowel(myname))\n",
        "print(reverseName(myname))\n",
        ""
      ],
      "metadata": {
        "id": "cwtaNJcc0a1o",
        "colab": {
          "base_uri": "https://localhost:8080/"
        },
        "outputId": "9389b67b-162e-4080-99bb-d2ac6967a623"
      },
      "execution_count": 42,
      "outputs": [
        {
          "output_type": "stream",
          "name": "stdout",
          "text": [
            "['l', 'e', 'u', 'g', 'i', 'M']\n"
          ]
        }
      ]
    },
    {
      "cell_type": "markdown",
      "source": [
        "5. Write a python function named `countVowel()` that will:\n",
        "\n",
        "- Accept a list of your name\n",
        "- Return the number of vowels of your name in the list\n",
        "\n",
        "-------------------------------------\n",
        "\n",
        "Example:\n",
        "\n",
        "myname = ['E', 'L', 'I', 'Z', 'E', 'R']\n",
        "\n",
        "countVowel(myname)\n",
        "\n",
        "Output should be:\n",
        "\n",
        "3"
      ],
      "metadata": {
        "id": "z98DkSZj0bKE"
      }
    },
    {
      "cell_type": "code",
      "source": [
        "def countVowel(name):\n",
        "    vowels = [\"M\",\"i\",\"g\",\"u\",\"e\",\"l\"]\n",
        "    return sum(name.count(vowel) for vowel in vowels)\n",
        "\n",
        "    myname = [\"M\",\"i\",\"g\",\"u\",\"e\",\"l\"]\n",
        "print(countVowel(myname))"
      ],
      "metadata": {
        "id": "djNZGq0P0bft",
        "colab": {
          "base_uri": "https://localhost:8080/"
        },
        "outputId": "48f191d1-a6b6-45f3-94e8-73142b379b50"
      },
      "execution_count": 46,
      "outputs": [
        {
          "output_type": "stream",
          "name": "stdout",
          "text": [
            "6\n"
          ]
        }
      ]
    },
    {
      "cell_type": "markdown",
      "source": [
        "## Farewell note\n",
        "\n",
        "It has been a pleasure to teach you this term even for a short period of time.\n",
        "\n",
        "I know that not all people like computer programming but please give it more time for you to find a place in your heart ❤️\n",
        "\n",
        "From my experience, people tend to learn skills when they need it and not when they want to. It is very hard to learn any skill if you do not have any use for it.\n",
        "\n",
        "The challenge for us educators is to show the next generation that programming is a very important skill and that the world needs people like you.\n",
        "\n",
        "Programming is a very fulfilling profession because you can solve the world's problems through your own creativity and passion.\n",
        "\n",
        "I hope that you can find your own purpose in life through programming and make our world a better place 🌎\n",
        "\n",
        "Your teacher,\n",
        "\n",
        "Elizer Ponio Jr."
      ],
      "metadata": {
        "id": "7YuM6TiO8Tsj"
      }
    }
  ]
}